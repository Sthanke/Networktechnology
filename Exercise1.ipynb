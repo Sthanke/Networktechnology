{
 "cells": [
  {
   "cell_type": "markdown",
   "metadata": {},
   "source": [
    "# Exersice 1\n",
    "\n",
    "## Praxis Befehle\n",
    "\n",
    "*Aufgabe 1*\n",
    "\n",
    "Ermitteln sie ihre MAC Adresse.\n",
    "Kontrollieren Sie immer nach, ob Sie auch das richtige Netzwerkgerät auslesen, da ein Rechner meist über mehrere davon verfügt.\n",
    "\n",
    "**TIP: Sie können den Befehl direkt hier in die nächste Zelle eingeben mit einem \"!\" davor.**"
   ]
  },
  {
   "cell_type": "code",
   "execution_count": null,
   "metadata": {},
   "outputs": [],
   "source": []
  },
  {
   "cell_type": "markdown",
   "metadata": {},
   "source": [
    "Wie könnten sie theoretisch die MAC Adresse verändern? Wann kann das sinnvoll sein?\n",
    "\n",
    "Schauen sie ob ihr Netzwerk vom ARP Spoofing betroffen ist? Was ist ARP Spoofing?\n",
    "\n",
    "**TIP: Sie können den Befehl direkt hier in die nächste Zelle eingeben mit einem \"!\" davor.**"
   ]
  },
  {
   "cell_type": "code",
   "execution_count": null,
   "metadata": {},
   "outputs": [],
   "source": []
  },
  {
   "cell_type": "markdown",
   "metadata": {},
   "source": [
    "Schauen sie ob sie den Rechners ihres Nachbarn/in erreichen können."
   ]
  },
  {
   "cell_type": "code",
   "execution_count": null,
   "metadata": {},
   "outputs": [],
   "source": []
  },
  {
   "cell_type": "markdown",
   "metadata": {},
   "source": [
    "Schauen sie ob der DNS Server die IP zum Server www.google.com kennt."
   ]
  },
  {
   "cell_type": "code",
   "execution_count": null,
   "metadata": {},
   "outputs": [],
   "source": []
  },
  {
   "cell_type": "markdown",
   "metadata": {},
   "source": [
    "Schauen sie sich die ersten Rechner an über die ihre Anfrage nach www.google.com geroutet wird. Was ist die IP des ersten Rechner? Welcher Rechner ist das?"
   ]
  },
  {
   "cell_type": "code",
   "execution_count": null,
   "metadata": {},
   "outputs": [],
   "source": []
  },
  {
   "cell_type": "markdown",
   "metadata": {},
   "source": [
    "Schauen sie wieviel aktive IPv4 Verbindungen sie offen haben."
   ]
  },
  {
   "cell_type": "code",
   "execution_count": null,
   "metadata": {},
   "outputs": [],
   "source": []
  },
  {
   "cell_type": "markdown",
   "metadata": {},
   "source": [
    "## Cisco Packet Tracer\n",
    "\n",
    "### Einfaches Netzwerk\n",
    "\n",
    "*Aufgabe 2*\n",
    "\n",
    "Richten sie ein einfaches Netzwerk mit zwischen 2 PC und einem Switch ein.\n",
    "Vergeben sie alle IP Adressen korret.\n",
    "Wie können sie im Packet Tracer ihre Verbinding testen?\n",
    "Probieren sie aus ob die Verbindung funktioniert.\n",
    "\n",
    "### DHCP, DNS, Mail, Webseiten\n",
    "\n",
    "*Aufgabe 3*\n",
    "\n",
    "Legen sie einen leeren Switch an und bestücken sie ihn mit 6 Ethernetkarten (unter dem Tab CLI können sie schauen wie der Switch hoch fährt).\n",
    "\n",
    "Nennen sie den Switch \"Hauptswitch\" und schauen sie ob alle Ethernetkarten eingeschaltet sind.\n",
    "\n",
    "Geben sie drei PCs in das Netzwerk und konfigurieren sie diese entsprechend (ändern sie die Namen, Vergeben sie die IP Adressen).\n",
    "\n",
    "Geben sie die vergebenen IP Adressen als Notiz unter die PCs.\n",
    "\n",
    "Patchen sie die PCs mit dem Switch.\n",
    "\n",
    "Überprüfen sie die Verbindung mit dem *ping* Befehl.\n",
    "\n",
    "Geben sie 2 einfache Server in das Netzwerk.\n",
    "Der erste Server ist unser Webserver. Konfigurieren sie entsprechend Name und IP Adresse des Servers. Schalten sie alle Service ausser **HTTP**, **SYSLOG** und **EMAIL** aus.\n",
    "\n",
    "Der zweite Server ist unser DNS und DHCP Server. Konfigurieren sie entsprechend Name und IP Adresse des Servers.\n",
    "Schalten sie alle Service ausser **NTP** erstmal aus.\n",
    "\n",
    "Geben sie wieder die IP Adresse als Notizen für beide Server und verbinden sie die Server mit dem Switch. \n",
    "\n",
    "Konfigurieren sie nun den DNS Server. Schalten sie die DNS Service in unserem DNS Server ein und adden sie alle PC als \"A Record\".\n",
    "Nun können sie jeden PC auch unter dem vergebenen Namen an pingen und müssen nicht mehr die IP Adresse verwenden.\n",
    "\n",
    "Geben sie die IP des DNS Servers für alle PCs an.\n",
    "\n",
    "Nun wollen wir die fiktive Webseite **www.intern.net** auf unserem Webserver hosten. Die Server soll auch unter **intern.net** erreichbar sein. Geben sie die entsprechenden Einträge in den DNS Server ein.\n",
    "\n",
    "Schauen sie ob sie die Homepage über einen PC ansurfen können.\n",
    "\n",
    "Legen sie nun am MailServer drei Email Accounts für unsere drei PCs an. Die Domain ist **intern.net**\n",
    "Konfigurieren sie das Emailpostfach des PCs.\n",
    "Schauen sie ob sie von PC zu PC Emails schicken und empfangen können.\n",
    "\n",
    "Nun stellen wir auf DHCP um.\n",
    "Tragen sie dazu im DHCP Server die DNS Adresse ein. Lassen sie die Host mit Host 100 starten und begrenzen sie die maximale Hostanzahl auf 10.\n",
    "\n",
    "Geben sie nun einen einfachen WLAN Access Point in Netzwerk Typ \"AP-PT\". Vergeben sie einen SSID Name, richten sie eine WPA2-PSK Verschlüsselung mit Encryption Type AES ein.\n",
    "\n",
    "Patchen sie den Access Point mit dem Switch.\n",
    "\n",
    "Geben sie einen Laptop ins Netzwerk. Der Laptop hat leider keine eingebaute WLAN Karte. Sie müssen die vorkonfigurierte Karte gegen eine WLAN Karte vom Typ WPS300N tauschen. \n",
    "\n",
    "Verbinden sie den Laptop mit dem WLAN. Schauen sie ob sie eine korrekte IP Adresse bekommen haben.\n",
    "\n",
    "### Routing mit Cisco Packet Tracer\n",
    "\n",
    "\n",
    "xxxx\n",
    "\n",
    "\n",
    "## IP Adressen\n",
    "\n",
    "*Aufgabe 4*\n",
    "\n",
    "Ein Host hat die Adressangabe 192.168.5.65/23\n",
    "* Über wie viele Hosts kann dieses Netz maximal verfügen?\n",
    "* Wie lautet die Netzwerkadresse dieses Netzes?\n",
    "* Wie lauten die erste und letzte IP-Adresse für Hosts in diesem Netz?\n",
    "\n",
    "\n",
    "\n",
    "\n",
    "\n",
    "\n"
   ]
  }
 ],
 "metadata": {
  "kernelspec": {
   "display_name": "Python 3",
   "language": "python",
   "name": "python3"
  },
  "language_info": {
   "codemirror_mode": {
    "name": "ipython",
    "version": 3
   },
   "file_extension": ".py",
   "mimetype": "text/x-python",
   "name": "python",
   "nbconvert_exporter": "python",
   "pygments_lexer": "ipython3",
   "version": "3.7.3"
  }
 },
 "nbformat": 4,
 "nbformat_minor": 2
}
