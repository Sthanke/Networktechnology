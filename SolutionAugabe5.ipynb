{
 "cells": [
  {
   "cell_type": "markdown",
   "metadata": {},
   "source": [
    "## Aufgabe 1\n",
    "\n",
    "Ein Host hat die Adressangabe 192.168.5.65/23\n",
    "* Über wie viele Hosts kann dieses Netz maximal verfügen?\n",
    "* Wie lautet die Netzwerkadresse dieses Netzes?\n",
    "* Wie lauten die erste und letzte IP-Adresse für Hosts in diesem Netz?\n",
    "\n",
    "\n",
    "# Lösung\n",
    "\n",
    "Pro Oktett sind 8 Bit mit der Möglichkeit 0-255.\n",
    "\n",
    "128 64 32 16 8 4 2 1. 128 64 32 16 8 4 2 1. 128 64 32 16 8 4 2 1. 128 64 32 16 8 4 2 1\n",
    "\n",
    "1 1 0 0 0 0 0 0. 1 0 1 0 1 0 0 0. 0 0 0 0 0 1 0 1. 0 1 0 0 0 0 0 1 \n",
    "/23\n",
    "\n",
    "1 1 1 1 1 1 1 1. 1 1 1 1 1 1 1 1. 1 1 1 1 1 1 1 0. 0 0 0 0 0 0 0 0 /255. 255. 254.0\n",
    "\n",
    "1 1 0 0 0 0 0 0. 1 0 1 0 1 0 0 0. 0 0 0 0 0 1 0 0. 0 0 0 0 0 0 0 0 = Logische Summe\n",
    "\n",
    "**192 . 168 . 4 . 0 /23 = NetzIP**\n",
    "\n",
    "**192 . 168 . 4 . 1  bis 192 . 168 . 5 . 254 --> 255 ist Broadcast Adresse** \n",
    "\n",
    "**510 Hosts**"
   ]
  },
  {
   "cell_type": "code",
   "execution_count": null,
   "metadata": {},
   "outputs": [],
   "source": []
  }
 ],
 "metadata": {
  "kernelspec": {
   "display_name": "Python 3",
   "language": "python",
   "name": "python3"
  },
  "language_info": {
   "codemirror_mode": {
    "name": "ipython",
    "version": 3
   },
   "file_extension": ".py",
   "mimetype": "text/x-python",
   "name": "python",
   "nbconvert_exporter": "python",
   "pygments_lexer": "ipython3",
   "version": "3.7.3"
  }
 },
 "nbformat": 4,
 "nbformat_minor": 2
}
